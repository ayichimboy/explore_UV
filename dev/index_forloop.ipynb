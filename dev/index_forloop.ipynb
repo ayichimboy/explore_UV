{
 "cells": [
  {
   "cell_type": "code",
   "execution_count": 1,
   "metadata": {},
   "outputs": [],
   "source": [
    "# import libraries\n",
    "import numpy as np                   \n",
    "import matplotlib.pyplot as plt\n",
    "import pandas as pd\n",
    "import seaborn as sns\n",
    "import scipy.stats as stats"
   ]
  },
  {
   "cell_type": "code",
   "execution_count": 3,
   "metadata": {},
   "outputs": [
    {
     "data": {
      "text/html": [
       "<div>\n",
       "<style scoped>\n",
       "    .dataframe tbody tr th:only-of-type {\n",
       "        vertical-align: middle;\n",
       "    }\n",
       "\n",
       "    .dataframe tbody tr th {\n",
       "        vertical-align: top;\n",
       "    }\n",
       "\n",
       "    .dataframe thead th {\n",
       "        text-align: right;\n",
       "    }\n",
       "</style>\n",
       "<table border=\"1\" class=\"dataframe\">\n",
       "  <thead>\n",
       "    <tr style=\"text-align: right;\">\n",
       "      <th></th>\n",
       "      <th>species</th>\n",
       "      <th>island</th>\n",
       "      <th>bill_length_mm</th>\n",
       "      <th>bill_depth_mm</th>\n",
       "      <th>flipper_length_mm</th>\n",
       "      <th>body_mass_g</th>\n",
       "      <th>sex</th>\n",
       "    </tr>\n",
       "  </thead>\n",
       "  <tbody>\n",
       "    <tr>\n",
       "      <th>0</th>\n",
       "      <td>Adelie</td>\n",
       "      <td>Torgersen</td>\n",
       "      <td>39.1</td>\n",
       "      <td>18.7</td>\n",
       "      <td>181.0</td>\n",
       "      <td>3750.0</td>\n",
       "      <td>MALE</td>\n",
       "    </tr>\n",
       "    <tr>\n",
       "      <th>1</th>\n",
       "      <td>Adelie</td>\n",
       "      <td>Torgersen</td>\n",
       "      <td>39.5</td>\n",
       "      <td>17.4</td>\n",
       "      <td>186.0</td>\n",
       "      <td>3800.0</td>\n",
       "      <td>FEMALE</td>\n",
       "    </tr>\n",
       "    <tr>\n",
       "      <th>2</th>\n",
       "      <td>Adelie</td>\n",
       "      <td>Torgersen</td>\n",
       "      <td>40.3</td>\n",
       "      <td>18.0</td>\n",
       "      <td>195.0</td>\n",
       "      <td>3250.0</td>\n",
       "      <td>FEMALE</td>\n",
       "    </tr>\n",
       "    <tr>\n",
       "      <th>3</th>\n",
       "      <td>Adelie</td>\n",
       "      <td>Torgersen</td>\n",
       "      <td>NaN</td>\n",
       "      <td>NaN</td>\n",
       "      <td>NaN</td>\n",
       "      <td>NaN</td>\n",
       "      <td>NaN</td>\n",
       "    </tr>\n",
       "    <tr>\n",
       "      <th>4</th>\n",
       "      <td>Adelie</td>\n",
       "      <td>Torgersen</td>\n",
       "      <td>36.7</td>\n",
       "      <td>19.3</td>\n",
       "      <td>193.0</td>\n",
       "      <td>3450.0</td>\n",
       "      <td>FEMALE</td>\n",
       "    </tr>\n",
       "  </tbody>\n",
       "</table>\n",
       "</div>"
      ],
      "text/plain": [
       "  species     island  bill_length_mm  bill_depth_mm  flipper_length_mm  \\\n",
       "0  Adelie  Torgersen            39.1           18.7              181.0   \n",
       "1  Adelie  Torgersen            39.5           17.4              186.0   \n",
       "2  Adelie  Torgersen            40.3           18.0              195.0   \n",
       "3  Adelie  Torgersen             NaN            NaN                NaN   \n",
       "4  Adelie  Torgersen            36.7           19.3              193.0   \n",
       "\n",
       "   body_mass_g     sex  \n",
       "0       3750.0    MALE  \n",
       "1       3800.0  FEMALE  \n",
       "2       3250.0  FEMALE  \n",
       "3          NaN     NaN  \n",
       "4       3450.0  FEMALE  "
      ]
     },
     "execution_count": 3,
     "metadata": {},
     "output_type": "execute_result"
    }
   ],
   "source": [
    "# import dataframe \n",
    "df = pd.read_csv('penguins.csv')\n",
    "df.head()"
   ]
  },
  {
   "cell_type": "code",
   "execution_count": 4,
   "metadata": {},
   "outputs": [
    {
     "name": "stdout",
     "output_type": "stream",
     "text": [
      "<class 'pandas.core.frame.DataFrame'>\n",
      "RangeIndex: 344 entries, 0 to 343\n",
      "Data columns (total 7 columns):\n",
      " #   Column             Non-Null Count  Dtype  \n",
      "---  ------             --------------  -----  \n",
      " 0   species            344 non-null    object \n",
      " 1   island             344 non-null    object \n",
      " 2   bill_length_mm     342 non-null    float64\n",
      " 3   bill_depth_mm      342 non-null    float64\n",
      " 4   flipper_length_mm  342 non-null    float64\n",
      " 5   body_mass_g        342 non-null    float64\n",
      " 6   sex                333 non-null    object \n",
      "dtypes: float64(4), object(3)\n",
      "memory usage: 18.9+ KB\n"
     ]
    }
   ],
   "source": [
    "df.info()"
   ]
  },
  {
   "cell_type": "code",
   "execution_count": 5,
   "metadata": {},
   "outputs": [
    {
     "name": "stdout",
     "output_type": "stream",
     "text": [
      "<class 'pandas.core.frame.DataFrame'>\n",
      "Index: 333 entries, 0 to 343\n",
      "Data columns (total 7 columns):\n",
      " #   Column             Non-Null Count  Dtype  \n",
      "---  ------             --------------  -----  \n",
      " 0   species            333 non-null    object \n",
      " 1   island             333 non-null    object \n",
      " 2   bill_length_mm     333 non-null    float64\n",
      " 3   bill_depth_mm      333 non-null    float64\n",
      " 4   flipper_length_mm  333 non-null    float64\n",
      " 5   body_mass_g        333 non-null    float64\n",
      " 6   sex                333 non-null    object \n",
      "dtypes: float64(4), object(3)\n",
      "memory usage: 20.8+ KB\n"
     ]
    }
   ],
   "source": [
    "df_dropna = df.dropna(subset='sex')\n",
    "df_dropna.info()"
   ]
  },
  {
   "cell_type": "code",
   "execution_count": null,
   "metadata": {},
   "outputs": [
    {
     "name": "stdout",
     "output_type": "stream",
     "text": [
      "[np.float64(220.1), np.float64(225.5), np.float64(235.3), np.float64(229.7), np.float64(229.3), np.float64(219.9), np.float64(234.2), np.float64(223.1), np.float64(229.6), np.float64(232.6), np.float64(221.6), np.float64(233.7), np.float64(239.5), np.float64(218.4), np.float64(240.0), np.float64(211.8), np.float64(217.7), np.float64(224.9), np.float64(223.2), np.float64(218.8), np.float64(222.3), np.float64(223.6), np.float64(227.5), np.float64(209.9), np.float64(220.5), np.float64(217.5), np.float64(215.2), np.float64(227.5), np.float64(224.9), np.float64(231.4), np.float64(235.2), np.float64(228.8), np.float64(222.2), np.float64(218.6), np.float64(223.8), np.float64(218.5), np.float64(235.8), np.float64(222.0), np.float64(240.1), np.float64(222.0), np.float64(229.6), np.float64(223.1), np.float64(226.0), np.float64(233.3), np.float64(225.6), np.float64(228.1), np.float64(225.0), np.float64(242.0), np.float64(221.5), np.float64(232.4), np.float64(225.0), np.float64(233.6), np.float64(217.5), np.float64(231.6), np.float64(220.7), np.float64(236.3), np.float64(222.6), np.float64(233.1), np.float64(220.4), np.float64(233.6), np.float64(230.5), np.float64(229.1), np.float64(225.9), np.float64(239.8), np.float64(223.5), np.float64(229.7), np.float64(235.6), np.float64(242.8), np.float64(225.5), np.float64(237.8), np.float64(231.9), np.float64(221.2), np.float64(223.2), np.float64(237.1), np.float64(223.6), np.float64(238.9), np.float64(223.7), np.float64(228.1), np.float64(228.3), np.float64(235.3), np.float64(226.3), np.float64(225.9), np.float64(227.3), np.float64(228.9), np.float64(237.7), np.float64(246.1), np.float64(219.0), np.float64(225.6), np.float64(223.2), np.float64(248.8), np.float64(228.1), np.float64(236.3), np.float64(211.1), np.float64(235.2), np.float64(227.0), np.float64(244.0), np.float64(220.7), np.float64(227.8), np.float64(230.9), np.float64(223.7), np.float64(237.6), np.float64(228.2), np.float64(219.1), np.float64(240.2), np.float64(236.1), np.float64(236.6), np.float64(232.7), np.float64(239.2), np.float64(230.6), np.float64(238.7), np.float64(226.6), np.float64(236.3), np.float64(224.7), np.float64(230.1), np.float64(223.2), np.float64(235.7), np.float64(216.2), np.float64(243.4), np.float64(221.2), np.float64(239.6), np.float64(229.8), np.float64(236.5), np.float64(230.0), np.float64(254.1), np.float64(228.5), np.float64(240.1), np.float64(229.8), np.float64(236.5), np.float64(225.1), np.float64(231.1), np.float64(226.6), np.float64(240.2), np.float64(222.0), np.float64(232.7), np.float64(233.2), np.float64(227.6), np.float64(220.1), np.float64(230.7), np.float64(229.3), np.float64(224.0), np.float64(229.2), np.float64(220.6), np.float64(231.0), np.float64(230.8), np.float64(223.0), np.float64(242.5), np.float64(238.5), np.float64(246.0), np.float64(244.3), np.float64(233.4), np.float64(249.7), np.float64(243.2), np.float64(224.1), np.float64(248.3), np.float64(241.0), np.float64(249.3), np.float64(239.6), np.float64(245.7), np.float64(232.0), np.float64(253.0), np.float64(235.9), np.float64(251.5), np.float64(247.3), np.float64(239.0), np.float64(236.4), np.float64(244.2), np.float64(223.4), np.float64(239.5), np.float64(230.2), np.float64(243.6), np.float64(241.7), np.float64(249.0), np.float64(250.5), np.float64(249.5), np.float64(237.4), np.float64(257.8), np.float64(227.9), np.float64(255.2), np.float64(229.5), np.float64(254.0), np.float64(244.7), np.float64(246.5), np.float64(242.6), np.float64(262.0), np.float64(238.9), np.float64(258.5), np.float64(259.0), np.float64(233.2), np.float64(246.9), np.float64(241.5), np.float64(246.9), np.float64(251.8), np.float64(240.1), np.float64(261.0), np.float64(238.5), np.float64(247.8), np.float64(247.1), np.float64(252.4), np.float64(238.7), np.float64(253.7), np.float64(229.5), np.float64(249.2), np.float64(236.2), np.float64(252.3), np.float64(252.2), np.float64(239.6), np.float64(257.9), np.float64(235.8), np.float64(240.7), np.float64(262.8), np.float64(245.5), np.float64(242.6), np.float64(260.8), np.float64(248.2), np.float64(257.1), np.float64(280.0), np.float64(258.7), np.float64(268.0), np.float64(262.6), np.float64(256.5), np.float64(256.4), np.float64(265.7), np.float64(252.3), np.float64(261.8), np.float64(254.9), np.float64(265.0), np.float64(259.5), np.float64(261.4), np.float64(255.8), np.float64(266.3), np.float64(252.0), np.float64(270.2), np.float64(255.2), np.float64(270.7), np.float64(268.2), np.float64(260.1), np.float64(259.5), np.float64(261.3), np.float64(257.9), np.float64(261.1), np.float64(262.8), np.float64(258.2), np.float64(270.0), np.float64(269.3), np.float64(251.8), np.float64(252.1), np.float64(289.6), np.float64(269.1), np.float64(268.4), np.float64(255.6), np.float64(263.4), np.float64(252.0), np.float64(256.7), np.float64(250.7), np.float64(274.6), np.float64(255.3), np.float64(265.6), np.float64(272.5), np.float64(260.6), np.float64(255.5), np.float64(275.5), np.float64(257.9), np.float64(260.2), np.float64(256.6), np.float64(268.5), np.float64(255.1), np.float64(275.1), np.float64(263.5), np.float64(265.0), np.float64(251.8), np.float64(265.5), np.float64(251.2), np.float64(274.4), np.float64(253.3), np.float64(267.2), np.float64(259.7), np.float64(285.3), np.float64(264.8), np.float64(279.8), np.float64(278.5), np.float64(263.5), np.float64(273.7), np.float64(263.7), np.float64(267.4), np.float64(269.2), np.float64(263.5), np.float64(262.4), np.float64(278.6), np.float64(256.5), np.float64(271.1), np.float64(260.2), np.float64(268.2), np.float64(261.1), np.float64(273.5), np.float64(259.4), np.float64(274.0), np.float64(256.9), np.float64(278.8), np.float64(261.4), np.float64(269.3), np.float64(259.5), np.float64(282.1), np.float64(265.5), np.float64(280.2), np.float64(257.5), np.float64(273.5), np.float64(258.5), np.float64(276.8), np.float64(265.4), np.float64(268.9), np.float64(251.4), np.float64(276.1), np.float64(267.5), np.float64(283.9), np.float64(262.2), np.float64(277.1), np.float64(261.8), np.float64(251.7), np.float64(272.4), np.float64(251.3), np.float64(257.1), np.float64(266.5), np.float64(278.8), np.float64(256.5), np.float64(281.5), np.float64(263.2), np.float64(285.1), np.float64(270.8), np.float64(261.2), np.float64(261.8), np.float64(272.4), np.float64(257.2), np.float64(262.9)]\n"
     ]
    }
   ],
   "source": [
    "# indexing the dataframe\n",
    "flipper_length = df_dropna['flipper_length_mm']\n",
    "bill_length = df_dropna['bill_length_mm']\n",
    "\n",
    "# flipper_length.head()\n",
    "# bill_length.head()\n",
    "\n",
    "calc = []\n",
    "for index in flipper_length.index:\n",
    "# for index in bill_length.index:\n",
    "    cost = flipper_length[index] + bill_length[index]\n",
    "    calc.append(cost)\n",
    "    # print(index)   \n",
    "# print(calc)"
   ]
  },
  {
   "cell_type": "code",
   "execution_count": 30,
   "metadata": {},
   "outputs": [
    {
     "name": "stdout",
     "output_type": "stream",
     "text": [
      "not greater than 50\n",
      "66\n",
      "not greater than 50\n",
      "not greater than 50\n",
      "not greater than 50\n",
      "55\n",
      "77\n",
      "88\n",
      "99\n",
      "100\n"
     ]
    }
   ],
   "source": [
    "# list created\n",
    "glist =  [44, 66, 33, 22, 11, 55, 77, 88, 99, 100]\n",
    "# print(glist)\n",
    "\n",
    "for index in glist:\n",
    "    if index > 50:\n",
    "        print(index)\n",
    "    else:\n",
    "        print('not greater than 50')\n",
    "# print('done')\n",
    "\n"
   ]
  },
  {
   "cell_type": "code",
   "execution_count": 43,
   "metadata": {},
   "outputs": [
    {
     "name": "stdout",
     "output_type": "stream",
     "text": [
      "88\n",
      "132\n",
      "66\n",
      "44\n",
      "22\n",
      "110\n",
      "154\n",
      "176\n",
      "198\n",
      "200\n"
     ]
    }
   ],
   "source": [
    "glist =  [44, 66, 33, 22, 11, 55, 77, 88, 99, 100]\n",
    "\n",
    "for value in glist:\n",
    "    vast = value*2\n",
    "    print (vast)"
   ]
  },
  {
   "cell_type": "code",
   "execution_count": 56,
   "metadata": {},
   "outputs": [
    {
     "name": "stdout",
     "output_type": "stream",
     "text": [
      "594\n"
     ]
    }
   ],
   "source": [
    "mylist = [ 23, 45, 67, 89, 12, 34, 56, 78, 90, 100]\n",
    "final = 0\n",
    "for value in mylist:\n",
    "    final += value\n",
    "    \n",
    "print(final)"
   ]
  },
  {
   "cell_type": "code",
   "execution_count": 47,
   "metadata": {},
   "outputs": [
    {
     "name": "stdout",
     "output_type": "stream",
     "text": [
      "0 23\n",
      "1 45\n",
      "2 67\n",
      "3 89\n",
      "4 12\n",
      "5 34\n",
      "6 56\n",
      "7 78\n",
      "8 90\n",
      "9 100\n"
     ]
    }
   ],
   "source": [
    "for index, value in enumerate(mylist):\n",
    "    print(index, value)"
   ]
  },
  {
   "cell_type": "code",
   "execution_count": 51,
   "metadata": {},
   "outputs": [
    {
     "name": "stdout",
     "output_type": "stream",
     "text": [
      "594\n"
     ]
    }
   ],
   "source": [
    "total = 0\n",
    "for values in mylist:\n",
    "    total += values\n",
    "print(total)"
   ]
  },
  {
   "cell_type": "code",
   "execution_count": 53,
   "metadata": {},
   "outputs": [
    {
     "name": "stdout",
     "output_type": "stream",
     "text": [
      "8\n"
     ]
    }
   ],
   "source": [
    "a =3\n",
    "b = 5\n",
    "a += b\n",
    "print(a)"
   ]
  },
  {
   "cell_type": "code",
   "execution_count": 59,
   "metadata": {},
   "outputs": [
    {
     "name": "stdout",
     "output_type": "stream",
     "text": [
      "59.4\n"
     ]
    }
   ],
   "source": [
    "myseries = pd.Series(mylist)\n",
    "print(myseries.mean())"
   ]
  },
  {
   "cell_type": "code",
   "execution_count": 60,
   "metadata": {},
   "outputs": [
    {
     "name": "stdout",
     "output_type": "stream",
     "text": [
      "[23, 45, 67, 89, 12, 34, 56, 78, 90, 100]\n"
     ]
    }
   ],
   "source": [
    "print(mylist)"
   ]
  },
  {
   "cell_type": "code",
   "execution_count": 65,
   "metadata": {},
   "outputs": [
    {
     "name": "stdout",
     "output_type": "stream",
     "text": [
      "[[ 23  45  67  89  12]\n",
      " [ 34  56  78  90 100]]\n"
     ]
    }
   ],
   "source": [
    "print(np.array(mylist).reshape(2,5))"
   ]
  },
  {
   "cell_type": "code",
   "execution_count": 66,
   "metadata": {},
   "outputs": [
    {
     "name": "stdout",
     "output_type": "stream",
     "text": [
      "23\n",
      "45\n",
      "67\n",
      "89\n",
      "12\n",
      "34\n",
      "56\n",
      "78\n",
      "90\n",
      "100\n",
      "0 23\n",
      "1 45\n",
      "2 67\n",
      "3 89\n",
      "4 12\n",
      "5 34\n",
      "6 56\n",
      "7 78\n",
      "8 90\n",
      "9 100\n"
     ]
    }
   ],
   "source": [
    "mylist = [ 23, 45, 67, 89, 12, 34, 56, 78, 90, 100]\n",
    "\n",
    "for value in mylist:\n",
    "    print(value)\n",
    "    \n",
    "    \n",
    "for index, value in enumerate(mylist):\n",
    "    print(index, value)\n",
    "    \n"
   ]
  },
  {
   "cell_type": "code",
   "execution_count": 75,
   "metadata": {},
   "outputs": [
    {
     "name": "stdout",
     "output_type": "stream",
     "text": [
      "[ 23  45  67  89  12  34  56  78  90 100]\n"
     ]
    },
    {
     "data": {
      "text/plain": [
       "array([34, 56])"
      ]
     },
     "execution_count": 75,
     "metadata": {},
     "output_type": "execute_result"
    }
   ],
   "source": [
    "mynp = np.array(mylist)\n",
    "\n",
    "print(mynp)\n",
    "\n",
    "mynp[5:7]"
   ]
  },
  {
   "cell_type": "code",
   "execution_count": null,
   "metadata": {},
   "outputs": [
    {
     "name": "stdout",
     "output_type": "stream",
     "text": [
      "int64\n"
     ]
    }
   ],
   "source": [
    "mylist = [ 23, 45, 67, 89, 12, 34, 56, 78, 90, 100]\n",
    "myarray = np.array(mylist)\n",
    "seria_a = pd.Series(mylist)\n",
    "\n",
    "print(seria_a.dtype)\n",
    "\n",
    "mean_value = np.mean(mylist)\n",
    "std_value = np.std(mylist)"
   ]
  },
  {
   "cell_type": "code",
   "execution_count": 95,
   "metadata": {},
   "outputs": [
    {
     "name": "stdout",
     "output_type": "stream",
     "text": [
      "(8,)\n",
      "(8, 1)\n"
     ]
    }
   ],
   "source": [
    "mynpdata = np.array([33, 44, 55, 66, 77, 88, 99, 22])\n",
    "print(mynpdata.shape)\n",
    "\n",
    "mynpdata.shape\n",
    "mynpreshape = mynpdata.reshape(-1,1)\n",
    "print(mynpreshape.shape)\n",
    "\n",
    "mynplist = mynpdata.tolist()"
   ]
  },
  {
   "cell_type": "code",
   "execution_count": 107,
   "metadata": {},
   "outputs": [
    {
     "name": "stdout",
     "output_type": "stream",
     "text": [
      "[33, 44, 55, 66, 77, 88, 99, 22]\n",
      "0     66\n",
      "1     88\n",
      "2    110\n",
      "3    132\n",
      "4    154\n",
      "5    176\n",
      "6    198\n",
      "7     44\n",
      "dtype: int64\n"
     ]
    }
   ],
   "source": [
    "mynpdata = np.array([33, 44, 55, 66, 77, 88, 99, 22])\n",
    "mynplist = mynpdata.tolist()\n",
    "mynpseries = pd.Series(mynplist)\n",
    "print(mynplist)\n",
    "\n",
    "myfunction = mynpseries.apply(lambda x: x*2)\n",
    "print(myfunction)"
   ]
  },
  {
   "cell_type": "code",
   "execution_count": 110,
   "metadata": {},
   "outputs": [
    {
     "name": "stdout",
     "output_type": "stream",
     "text": [
      "(3, 2)\n"
     ]
    }
   ],
   "source": [
    "mynplistx = [[1, 2], [3, 4], [5, 6]]\n",
    "mynplistx = np.array(mynplistx)\n",
    "print(mynplistx.shape)"
   ]
  },
  {
   "cell_type": "code",
   "execution_count": 112,
   "metadata": {},
   "outputs": [
    {
     "data": {
      "text/plain": [
       "Text(0.5, 1.0, 'Simple Line Plot')"
      ]
     },
     "execution_count": 112,
     "metadata": {},
     "output_type": "execute_result"
    },
    {
     "data": {
      "image/png": "[encoded data removed]",
      "text/plain": [
       "<Figure size 800x600 with 1 Axes>"
      ]
     },
     "metadata": {},
     "output_type": "display_data"
    }
   ],
   "source": [
    "x = [10, 20, 30, 40, 50]\n",
    "y = [5, 15, 25, 35, 45]\n",
    "\n",
    "fig, ax = plt.subplots(figsize=(8, 6))\n",
    "ax.scatter(x,y, color='blue', marker='o')\n",
    "ax.set_xlabel('X-axis')\n",
    "ax.set_ylabel('Y-axis')\n",
    "ax.set_title('Simple Line Plot')"
   ]
  },
  {
   "cell_type": "code",
   "execution_count": 115,
   "metadata": {},
   "outputs": [
    {
     "name": "stdout",
     "output_type": "stream",
     "text": [
      "duck\n",
      "\n",
      "duck\n"
     ]
    }
   ],
   "source": [
    "print('duck\\n')\n",
    "print('duck')"
   ]
  }
 ],
 "metadata": {
  "kernelspec": {
   "display_name": ".venv",
   "language": "python",
   "name": "python3"
  },
  "language_info": {
   "codemirror_mode": {
    "name": "ipython",
    "version": 3
   },
   "file_extension": ".py",
   "mimetype": "text/x-python",
   "name": "python",
   "nbconvert_exporter": "python",
   "pygments_lexer": "ipython3",
   "version": "3.11.9"
  }
 },
 "nbformat": 4,
 "nbformat_minor": 2
}
